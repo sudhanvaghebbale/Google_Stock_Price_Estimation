{
 "cells": [
  {
   "cell_type": "code",
   "execution_count": 1,
   "metadata": {},
   "outputs": [],
   "source": [
    "import numpy as np\n",
    "import pandas as pd\n",
    "import matplotlib.pyplot as plt"
   ]
  },
  {
   "cell_type": "code",
   "execution_count": 3,
   "metadata": {},
   "outputs": [],
   "source": [
    "train = pd.read_csv('Google_Stock_Price_Train.csv')"
   ]
  },
  {
   "cell_type": "code",
   "execution_count": 4,
   "metadata": {},
   "outputs": [
    {
     "data": {
      "text/html": [
       "<div>\n",
       "<style scoped>\n",
       "    .dataframe tbody tr th:only-of-type {\n",
       "        vertical-align: middle;\n",
       "    }\n",
       "\n",
       "    .dataframe tbody tr th {\n",
       "        vertical-align: top;\n",
       "    }\n",
       "\n",
       "    .dataframe thead th {\n",
       "        text-align: right;\n",
       "    }\n",
       "</style>\n",
       "<table border=\"1\" class=\"dataframe\">\n",
       "  <thead>\n",
       "    <tr style=\"text-align: right;\">\n",
       "      <th></th>\n",
       "      <th>Date</th>\n",
       "      <th>Open</th>\n",
       "      <th>High</th>\n",
       "      <th>Low</th>\n",
       "      <th>Close</th>\n",
       "      <th>Volume</th>\n",
       "    </tr>\n",
       "  </thead>\n",
       "  <tbody>\n",
       "    <tr>\n",
       "      <th>0</th>\n",
       "      <td>1/3/2012</td>\n",
       "      <td>325.25</td>\n",
       "      <td>332.83</td>\n",
       "      <td>324.97</td>\n",
       "      <td>663.59</td>\n",
       "      <td>7,380,500</td>\n",
       "    </tr>\n",
       "    <tr>\n",
       "      <th>1</th>\n",
       "      <td>1/4/2012</td>\n",
       "      <td>331.27</td>\n",
       "      <td>333.87</td>\n",
       "      <td>329.08</td>\n",
       "      <td>666.45</td>\n",
       "      <td>5,749,400</td>\n",
       "    </tr>\n",
       "    <tr>\n",
       "      <th>2</th>\n",
       "      <td>1/5/2012</td>\n",
       "      <td>329.83</td>\n",
       "      <td>330.75</td>\n",
       "      <td>326.89</td>\n",
       "      <td>657.21</td>\n",
       "      <td>6,590,300</td>\n",
       "    </tr>\n",
       "    <tr>\n",
       "      <th>3</th>\n",
       "      <td>1/6/2012</td>\n",
       "      <td>328.34</td>\n",
       "      <td>328.77</td>\n",
       "      <td>323.68</td>\n",
       "      <td>648.24</td>\n",
       "      <td>5,405,900</td>\n",
       "    </tr>\n",
       "    <tr>\n",
       "      <th>4</th>\n",
       "      <td>1/9/2012</td>\n",
       "      <td>322.04</td>\n",
       "      <td>322.29</td>\n",
       "      <td>309.46</td>\n",
       "      <td>620.76</td>\n",
       "      <td>11,688,800</td>\n",
       "    </tr>\n",
       "  </tbody>\n",
       "</table>\n",
       "</div>"
      ],
      "text/plain": [
       "       Date    Open    High     Low   Close      Volume\n",
       "0  1/3/2012  325.25  332.83  324.97  663.59   7,380,500\n",
       "1  1/4/2012  331.27  333.87  329.08  666.45   5,749,400\n",
       "2  1/5/2012  329.83  330.75  326.89  657.21   6,590,300\n",
       "3  1/6/2012  328.34  328.77  323.68  648.24   5,405,900\n",
       "4  1/9/2012  322.04  322.29  309.46  620.76  11,688,800"
      ]
     },
     "execution_count": 4,
     "metadata": {},
     "output_type": "execute_result"
    }
   ],
   "source": [
    "train.head()"
   ]
  },
  {
   "cell_type": "code",
   "execution_count": 11,
   "metadata": {},
   "outputs": [],
   "source": [
    "training_set = train.iloc[:,1:2].values"
   ]
  },
  {
   "cell_type": "code",
   "execution_count": 13,
   "metadata": {},
   "outputs": [
    {
     "data": {
      "text/plain": [
       "array([[325.25],\n",
       "       [331.27],\n",
       "       [329.83],\n",
       "       ...,\n",
       "       [793.7 ],\n",
       "       [783.33],\n",
       "       [782.75]])"
      ]
     },
     "execution_count": 13,
     "metadata": {},
     "output_type": "execute_result"
    }
   ],
   "source": [
    "training_set"
   ]
  },
  {
   "cell_type": "code",
   "execution_count": 15,
   "metadata": {},
   "outputs": [],
   "source": [
    "from sklearn.preprocessing import MinMaxScaler\n",
    "sc = MinMaxScaler(feature_range = (0,1))\n",
    "training_set_scaled = sc.fit_transform(training_set)"
   ]
  },
  {
   "cell_type": "code",
   "execution_count": 16,
   "metadata": {},
   "outputs": [
    {
     "data": {
      "text/plain": [
       "array([[0.08581368],\n",
       "       [0.09701243],\n",
       "       [0.09433366],\n",
       "       ...,\n",
       "       [0.95725128],\n",
       "       [0.93796041],\n",
       "       [0.93688146]])"
      ]
     },
     "execution_count": 16,
     "metadata": {},
     "output_type": "execute_result"
    }
   ],
   "source": [
    "training_set_scaled"
   ]
  },
  {
   "cell_type": "code",
   "execution_count": 17,
   "metadata": {},
   "outputs": [],
   "source": [
    "x_train = []\n",
    "y_train = []"
   ]
  },
  {
   "cell_type": "code",
   "execution_count": 18,
   "metadata": {},
   "outputs": [],
   "source": [
    "for i in range(60,1258):\n",
    "    x_train.append(training_set_scaled[i-60:i,0])\n",
    "    y_train.append(training_set_scaled[i,0])"
   ]
  },
  {
   "cell_type": "code",
   "execution_count": 19,
   "metadata": {},
   "outputs": [],
   "source": [
    "x_train = np.array(x_train)\n",
    "y_train = np.array(y_train)"
   ]
  },
  {
   "cell_type": "code",
   "execution_count": 20,
   "metadata": {},
   "outputs": [],
   "source": [
    "x_train = np.reshape(x_train, (x_train.shape[0],x_train.shape[1],1))"
   ]
  },
  {
   "cell_type": "code",
   "execution_count": 21,
   "metadata": {},
   "outputs": [
    {
     "name": "stderr",
     "output_type": "stream",
     "text": [
      "Using TensorFlow backend.\n"
     ]
    }
   ],
   "source": [
    "from keras.models import Sequential\n",
    "from keras.layers import Dense\n",
    "from keras.layers import LSTM\n",
    "from keras.layers import Dropout"
   ]
  },
  {
   "cell_type": "code",
   "execution_count": 22,
   "metadata": {},
   "outputs": [
    {
     "name": "stderr",
     "output_type": "stream",
     "text": [
      "WARNING: Logging before flag parsing goes to stderr.\n",
      "W0823 16:05:53.659501 4782802368 deprecation_wrapper.py:119] From //anaconda3/lib/python3.7/site-packages/keras/backend/tensorflow_backend.py:66: The name tf.get_default_graph is deprecated. Please use tf.compat.v1.get_default_graph instead.\n",
      "\n"
     ]
    }
   ],
   "source": [
    "regressor = Sequential()"
   ]
  },
  {
   "cell_type": "code",
   "execution_count": 23,
   "metadata": {},
   "outputs": [
    {
     "name": "stderr",
     "output_type": "stream",
     "text": [
      "W0823 16:13:07.905098 4782802368 deprecation_wrapper.py:119] From //anaconda3/lib/python3.7/site-packages/keras/backend/tensorflow_backend.py:541: The name tf.placeholder is deprecated. Please use tf.compat.v1.placeholder instead.\n",
      "\n",
      "W0823 16:13:07.915136 4782802368 deprecation_wrapper.py:119] From //anaconda3/lib/python3.7/site-packages/keras/backend/tensorflow_backend.py:4432: The name tf.random_uniform is deprecated. Please use tf.random.uniform instead.\n",
      "\n",
      "W0823 16:13:08.260528 4782802368 deprecation_wrapper.py:119] From //anaconda3/lib/python3.7/site-packages/keras/backend/tensorflow_backend.py:148: The name tf.placeholder_with_default is deprecated. Please use tf.compat.v1.placeholder_with_default instead.\n",
      "\n",
      "W0823 16:13:08.272052 4782802368 deprecation.py:506] From //anaconda3/lib/python3.7/site-packages/keras/backend/tensorflow_backend.py:3733: calling dropout (from tensorflow.python.ops.nn_ops) with keep_prob is deprecated and will be removed in a future version.\n",
      "Instructions for updating:\n",
      "Please use `rate` instead of `keep_prob`. Rate should be set to `rate = 1 - keep_prob`.\n"
     ]
    }
   ],
   "source": [
    "regressor.add(LSTM(50, return_sequences = True, input_shape = (x_train.shape[1],1)))\n",
    "regressor.add(Dropout(0.2))"
   ]
  },
  {
   "cell_type": "code",
   "execution_count": 24,
   "metadata": {},
   "outputs": [],
   "source": [
    "regressor.add(LSTM(50, return_sequences = True))\n",
    "regressor.add(Dropout(0.2))\n",
    "\n",
    "regressor.add(LSTM(50, return_sequences = True))\n",
    "regressor.add(Dropout(0.2))\n",
    "\n",
    "regressor.add(LSTM(50))\n",
    "regressor.add(Dropout(0.2))"
   ]
  },
  {
   "cell_type": "code",
   "execution_count": 25,
   "metadata": {},
   "outputs": [],
   "source": [
    "regressor.add(Dense(1))"
   ]
  },
  {
   "cell_type": "code",
   "execution_count": 27,
   "metadata": {},
   "outputs": [],
   "source": [
    "regressor.compile(optimizer = 'adam', loss = 'mean_squared_error')"
   ]
  },
  {
   "cell_type": "code",
   "execution_count": 28,
   "metadata": {},
   "outputs": [
    {
     "name": "stderr",
     "output_type": "stream",
     "text": [
      "W0823 16:30:23.812031 4782802368 deprecation.py:323] From //anaconda3/lib/python3.7/site-packages/tensorflow/python/ops/math_grad.py:1250: add_dispatch_support.<locals>.wrapper (from tensorflow.python.ops.array_ops) is deprecated and will be removed in a future version.\n",
      "Instructions for updating:\n",
      "Use tf.where in 2.0, which has the same broadcast rule as np.where\n",
      "W0823 16:30:26.791099 4782802368 deprecation_wrapper.py:119] From //anaconda3/lib/python3.7/site-packages/keras/backend/tensorflow_backend.py:1033: The name tf.assign_add is deprecated. Please use tf.compat.v1.assign_add instead.\n",
      "\n"
     ]
    },
    {
     "name": "stdout",
     "output_type": "stream",
     "text": [
      "Epoch 1/100\n",
      "1198/1198 [==============================] - 13s 11ms/step - loss: 0.0437\n",
      "Epoch 2/100\n",
      "1198/1198 [==============================] - 9s 7ms/step - loss: 0.0064\n",
      "Epoch 3/100\n",
      "1198/1198 [==============================] - 9s 8ms/step - loss: 0.0051\n",
      "Epoch 4/100\n",
      "1198/1198 [==============================] - 9s 7ms/step - loss: 0.0046\n",
      "Epoch 5/100\n",
      "1198/1198 [==============================] - 9s 8ms/step - loss: 0.0051\n",
      "Epoch 6/100\n",
      "1198/1198 [==============================] - 10s 8ms/step - loss: 0.0053\n",
      "Epoch 7/100\n",
      "1198/1198 [==============================] - 10s 8ms/step - loss: 0.0042\n",
      "Epoch 8/100\n",
      "1198/1198 [==============================] - 10s 8ms/step - loss: 0.0056\n",
      "Epoch 9/100\n",
      "1198/1198 [==============================] - 10s 8ms/step - loss: 0.0047\n",
      "Epoch 10/100\n",
      "1198/1198 [==============================] - 10s 8ms/step - loss: 0.0043\n",
      "Epoch 11/100\n",
      "1198/1198 [==============================] - 9s 8ms/step - loss: 0.0043\n",
      "Epoch 12/100\n",
      "1198/1198 [==============================] - 10s 8ms/step - loss: 0.0042\n",
      "Epoch 13/100\n",
      "1198/1198 [==============================] - 10s 8ms/step - loss: 0.0040\n",
      "Epoch 14/100\n",
      "1198/1198 [==============================] - 10s 8ms/step - loss: 0.0039\n",
      "Epoch 15/100\n",
      "1198/1198 [==============================] - 10s 8ms/step - loss: 0.0038\n",
      "Epoch 16/100\n",
      "1198/1198 [==============================] - 10s 8ms/step - loss: 0.0039\n",
      "Epoch 17/100\n",
      "1198/1198 [==============================] - 9s 8ms/step - loss: 0.0034\n",
      "Epoch 18/100\n",
      "1198/1198 [==============================] - 10s 8ms/step - loss: 0.0037\n",
      "Epoch 19/100\n",
      "1198/1198 [==============================] - 10s 8ms/step - loss: 0.0041\n",
      "Epoch 20/100\n",
      "1198/1198 [==============================] - 10s 8ms/step - loss: 0.0038\n",
      "Epoch 21/100\n",
      "1198/1198 [==============================] - 10s 8ms/step - loss: 0.0037\n",
      "Epoch 22/100\n",
      "1198/1198 [==============================] - 9s 8ms/step - loss: 0.0035\n",
      "Epoch 23/100\n",
      "1198/1198 [==============================] - 10s 8ms/step - loss: 0.0032\n",
      "Epoch 24/100\n",
      "1198/1198 [==============================] - 10s 8ms/step - loss: 0.0033\n",
      "Epoch 25/100\n",
      "1198/1198 [==============================] - 10s 8ms/step - loss: 0.0031\n",
      "Epoch 26/100\n",
      "1198/1198 [==============================] - 9s 8ms/step - loss: 0.0029\n",
      "Epoch 27/100\n",
      "1198/1198 [==============================] - 10s 8ms/step - loss: 0.0029\n",
      "Epoch 28/100\n",
      "1198/1198 [==============================] - 10s 8ms/step - loss: 0.0030\n",
      "Epoch 29/100\n",
      "1198/1198 [==============================] - 10s 8ms/step - loss: 0.0029\n",
      "Epoch 30/100\n",
      "1198/1198 [==============================] - 9s 8ms/step - loss: 0.0031\n",
      "Epoch 31/100\n",
      "1198/1198 [==============================] - 10s 8ms/step - loss: 0.0033\n",
      "Epoch 32/100\n",
      "1198/1198 [==============================] - 9s 8ms/step - loss: 0.0029\n",
      "Epoch 33/100\n",
      "1198/1198 [==============================] - 10s 8ms/step - loss: 0.0026\n",
      "Epoch 34/100\n",
      "1198/1198 [==============================] - 10s 8ms/step - loss: 0.0028\n",
      "Epoch 35/100\n",
      "1198/1198 [==============================] - 10s 8ms/step - loss: 0.0027\n",
      "Epoch 36/100\n",
      "1198/1198 [==============================] - 10s 8ms/step - loss: 0.0027\n",
      "Epoch 37/100\n",
      "1198/1198 [==============================] - 10s 8ms/step - loss: 0.0026\n",
      "Epoch 38/100\n",
      "1198/1198 [==============================] - 11s 9ms/step - loss: 0.0027\n",
      "Epoch 39/100\n",
      "1198/1198 [==============================] - 10s 8ms/step - loss: 0.0031\n",
      "Epoch 40/100\n",
      "1198/1198 [==============================] - 10s 8ms/step - loss: 0.0026\n",
      "Epoch 41/100\n",
      "1198/1198 [==============================] - 10s 9ms/step - loss: 0.0025\n",
      "Epoch 42/100\n",
      "1198/1198 [==============================] - 9s 8ms/step - loss: 0.0023\n",
      "Epoch 43/100\n",
      "1198/1198 [==============================] - 10s 8ms/step - loss: 0.0023\n",
      "Epoch 44/100\n",
      "1198/1198 [==============================] - 10s 9ms/step - loss: 0.0025\n",
      "Epoch 45/100\n",
      "1198/1198 [==============================] - 10s 8ms/step - loss: 0.0024\n",
      "Epoch 46/100\n",
      "1198/1198 [==============================] - 10s 8ms/step - loss: 0.0026\n",
      "Epoch 47/100\n",
      "1198/1198 [==============================] - 10s 8ms/step - loss: 0.0024\n",
      "Epoch 48/100\n",
      "1198/1198 [==============================] - 10s 8ms/step - loss: 0.0023\n",
      "Epoch 49/100\n",
      "1198/1198 [==============================] - 10s 8ms/step - loss: 0.0021\n",
      "Epoch 50/100\n",
      "1198/1198 [==============================] - 10s 8ms/step - loss: 0.0022\n",
      "Epoch 51/100\n",
      "1198/1198 [==============================] - 10s 8ms/step - loss: 0.0021\n",
      "Epoch 52/100\n",
      "1198/1198 [==============================] - 9s 7ms/step - loss: 0.0023\n",
      "Epoch 53/100\n",
      "1198/1198 [==============================] - 9s 7ms/step - loss: 0.0021\n",
      "Epoch 54/100\n",
      "1198/1198 [==============================] - 9s 7ms/step - loss: 0.0021\n",
      "Epoch 55/100\n",
      "1198/1198 [==============================] - 9s 7ms/step - loss: 0.0024\n",
      "Epoch 56/100\n",
      "1198/1198 [==============================] - 9s 8ms/step - loss: 0.0023\n",
      "Epoch 57/100\n",
      "1198/1198 [==============================] - 10s 8ms/step - loss: 0.0022\n",
      "Epoch 58/100\n",
      "1198/1198 [==============================] - 13s 11ms/step - loss: 0.0021\n",
      "Epoch 59/100\n",
      "1198/1198 [==============================] - 11s 9ms/step - loss: 0.0021\n",
      "Epoch 60/100\n",
      "1198/1198 [==============================] - 10s 9ms/step - loss: 0.0021\n",
      "Epoch 61/100\n",
      "1198/1198 [==============================] - 10s 8ms/step - loss: 0.0023\n",
      "Epoch 62/100\n",
      "1198/1198 [==============================] - 12s 10ms/step - loss: 0.0020\n",
      "Epoch 63/100\n",
      "1198/1198 [==============================] - 11s 9ms/step - loss: 0.0022\n",
      "Epoch 64/100\n",
      "1198/1198 [==============================] - 12s 10ms/step - loss: 0.0020\n",
      "Epoch 65/100\n",
      "1198/1198 [==============================] - 10s 8ms/step - loss: 0.0021\n",
      "Epoch 66/100\n",
      "1198/1198 [==============================] - 9s 8ms/step - loss: 0.0019\n",
      "Epoch 67/100\n",
      "1198/1198 [==============================] - 9s 8ms/step - loss: 0.0023\n",
      "Epoch 68/100\n",
      "1198/1198 [==============================] - 9s 8ms/step - loss: 0.0018\n",
      "Epoch 69/100\n",
      "1198/1198 [==============================] - 11s 9ms/step - loss: 0.0019\n",
      "Epoch 70/100\n",
      "1198/1198 [==============================] - 11s 9ms/step - loss: 0.0019\n",
      "Epoch 71/100\n",
      "1198/1198 [==============================] - 10s 8ms/step - loss: 0.0018\n",
      "Epoch 72/100\n",
      "1198/1198 [==============================] - 10s 8ms/step - loss: 0.0018\n",
      "Epoch 73/100\n",
      "1198/1198 [==============================] - 9s 8ms/step - loss: 0.0016\n",
      "Epoch 74/100\n",
      "1198/1198 [==============================] - 9s 8ms/step - loss: 0.0018\n",
      "Epoch 75/100\n",
      "1198/1198 [==============================] - 9s 8ms/step - loss: 0.0016\n",
      "Epoch 76/100\n",
      "1198/1198 [==============================] - 9s 7ms/step - loss: 0.0017\n",
      "Epoch 77/100\n",
      "1198/1198 [==============================] - 10s 8ms/step - loss: 0.0018\n",
      "Epoch 78/100\n",
      "1198/1198 [==============================] - 10s 8ms/step - loss: 0.0017\n",
      "Epoch 79/100\n",
      "1198/1198 [==============================] - 9s 8ms/step - loss: 0.0017\n",
      "Epoch 80/100\n",
      "1198/1198 [==============================] - 9s 8ms/step - loss: 0.0015\n",
      "Epoch 81/100\n",
      "1198/1198 [==============================] - 10s 8ms/step - loss: 0.0016\n",
      "Epoch 82/100\n",
      "1198/1198 [==============================] - 10s 8ms/step - loss: 0.0016\n",
      "Epoch 83/100\n",
      "1198/1198 [==============================] - 9s 8ms/step - loss: 0.0014\n",
      "Epoch 84/100\n",
      "1198/1198 [==============================] - 10s 9ms/step - loss: 0.0017\n",
      "Epoch 85/100\n",
      "1198/1198 [==============================] - 11s 9ms/step - loss: 0.0015\n",
      "Epoch 86/100\n",
      "1198/1198 [==============================] - 11s 9ms/step - loss: 0.0016\n",
      "Epoch 87/100\n",
      "1198/1198 [==============================] - 11s 9ms/step - loss: 0.0016\n",
      "Epoch 88/100\n",
      "1198/1198 [==============================] - 10s 8ms/step - loss: 0.0015\n",
      "Epoch 89/100\n",
      "1198/1198 [==============================] - 10s 8ms/step - loss: 0.0016\n",
      "Epoch 90/100\n",
      "1198/1198 [==============================] - 10s 8ms/step - loss: 0.0017\n",
      "Epoch 91/100\n",
      "1198/1198 [==============================] - 11s 9ms/step - loss: 0.0015\n",
      "Epoch 92/100\n",
      "1198/1198 [==============================] - 11s 9ms/step - loss: 0.0015\n",
      "Epoch 93/100\n",
      "1198/1198 [==============================] - 11s 10ms/step - loss: 0.0014\n",
      "Epoch 94/100\n",
      "1198/1198 [==============================] - 10s 8ms/step - loss: 0.0016\n",
      "Epoch 95/100\n",
      "1198/1198 [==============================] - 9s 8ms/step - loss: 0.0015\n",
      "Epoch 96/100\n",
      "1198/1198 [==============================] - 9s 8ms/step - loss: 0.0015\n",
      "Epoch 97/100\n",
      "1198/1198 [==============================] - 9s 8ms/step - loss: 0.0014\n",
      "Epoch 98/100\n",
      "1198/1198 [==============================] - 9s 7ms/step - loss: 0.0013\n",
      "Epoch 99/100\n",
      "1198/1198 [==============================] - 9s 7ms/step - loss: 0.0014\n",
      "Epoch 100/100\n",
      "1198/1198 [==============================] - 9s 8ms/step - loss: 0.0013\n"
     ]
    },
    {
     "data": {
      "text/plain": [
       "<keras.callbacks.History at 0x1a3bb2fb38>"
      ]
     },
     "execution_count": 28,
     "metadata": {},
     "output_type": "execute_result"
    }
   ],
   "source": [
    "regressor.fit(x_train,y_train, epochs = 100, batch_size = 32)"
   ]
  },
  {
   "cell_type": "code",
   "execution_count": 44,
   "metadata": {},
   "outputs": [],
   "source": [
    "test = pd.read_csv('Google_Stock_Price_Test.csv')\n",
    "test_set = test.iloc[:,1:2].values"
   ]
  },
  {
   "cell_type": "code",
   "execution_count": 45,
   "metadata": {},
   "outputs": [],
   "source": [
    "dataset_total = pd.concat((train['Open'],test['Open']), axis = 0)"
   ]
  },
  {
   "cell_type": "code",
   "execution_count": 46,
   "metadata": {},
   "outputs": [],
   "source": [
    "inputs = dataset_total[len(dataset_total) - len(test) - 60:].values"
   ]
  },
  {
   "cell_type": "code",
   "execution_count": 47,
   "metadata": {},
   "outputs": [],
   "source": [
    "inputs = inputs.reshape(-1,1)"
   ]
  },
  {
   "cell_type": "code",
   "execution_count": 48,
   "metadata": {},
   "outputs": [],
   "source": [
    "inputs = sc.transform(inputs)"
   ]
  },
  {
   "cell_type": "code",
   "execution_count": 49,
   "metadata": {},
   "outputs": [],
   "source": [
    "x_test = []\n",
    "\n",
    "for i in range(60,80):\n",
    "    x_test.append(inputs[i-60:i,0])\n",
    "x_test = np.array(x_test)"
   ]
  },
  {
   "cell_type": "code",
   "execution_count": 50,
   "metadata": {},
   "outputs": [],
   "source": [
    "x_test = np.reshape(x_test, (x_test.shape[0],x_test.shape[1],1))"
   ]
  },
  {
   "cell_type": "code",
   "execution_count": 51,
   "metadata": {},
   "outputs": [],
   "source": [
    "predicted_stock = regressor.predict(x_test)\n",
    "predicted_stock = sc.inverse_transform(predicted_stock)"
   ]
  },
  {
   "cell_type": "code",
   "execution_count": 55,
   "metadata": {},
   "outputs": [
    {
     "data": {
      "text/plain": [
       "<matplotlib.legend.Legend at 0x1a3eaffa90>"
      ]
     },
     "execution_count": 55,
     "metadata": {},
     "output_type": "execute_result"
    },
    {
     "data": {
      "image/png": "[encoded data removed]",
      "text/plain": [
       "<Figure size 432x288 with 1 Axes>"
      ]
     },
     "metadata": {
      "needs_background": "light"
     },
     "output_type": "display_data"
    }
   ],
   "source": [
    "plt.plot(test_set, color = 'red', label = 'Real Prices')\n",
    "plt.plot(predicted_stock, color = 'blue', label = 'Predicted Prices')\n",
    "plt.title('Comparison')\n",
    "plt.xlabel('Time')\n",
    "plt.ylabel('Prices')\n",
    "plt.legend()"
   ]
  },
  {
   "cell_type": "code",
   "execution_count": null,
   "metadata": {},
   "outputs": [],
   "source": []
  }
 ],
 "metadata": {
  "kernelspec": {
   "display_name": "Python 3",
   "language": "python",
   "name": "python3"
  },
  "language_info": {
   "codemirror_mode": {
    "name": "ipython",
    "version": 3
   },
   "file_extension": ".py",
   "mimetype": "text/x-python",
   "name": "python",
   "nbconvert_exporter": "python",
   "pygments_lexer": "ipython3",
   "version": "3.7.6"
  }
 },
 "nbformat": 4,
 "nbformat_minor": 2
}
